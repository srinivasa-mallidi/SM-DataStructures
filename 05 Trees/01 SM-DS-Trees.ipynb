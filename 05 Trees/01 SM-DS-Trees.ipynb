{
 "cells": [
  {
   "cell_type": "markdown",
   "id": "6ebc130d-5cac-4185-8c7a-4c3427dbd2b1",
   "metadata": {},
   "source": [
    "#### **Introduction to Trees**\n",
    "\n",
    "-   **Definition**: A tree is a hierarchical data structure consisting of nodes connected by edges, where each node has zero or more child nodes.\n",
    "-   **Terminology**:\n",
    "    -   **Root**: The topmost node in a tree.\n",
    "    -   **Parent**: A node that has child nodes.\n",
    "    -   **Child**: Nodes directly connected to a parent node.\n",
    "    -   **Leaf**: Nodes with no children.\n",
    "    -   **Subtree**: A tree structure within a tree.\n",
    "    -   **Depth**: The level of a node from the root.\n",
    "    -   **Height**: The maximum depth of the tree.\n",
    "\n",
    "#### 2\\. **Types of Trees**\n",
    "\n",
    "-   **Binary Tree**:\n",
    "\n",
    "    -   Each node has at most two children: left and right.\n",
    "    -   Example operations: insertion, deletion, traversal (inorder, preorder, postorder)."
   ]
  },
  {
   "cell_type": "markdown",
   "id": "d6293164-995c-432c-8018-6cb567b83b36",
   "metadata": {},
   "source": [
    "<img src=\"images/Binary_tree.png\" alt=\"failed to load\">"
   ]
  },
  {
   "cell_type": "markdown",
   "id": "5c1503ed-1f42-4599-9397-317129e4f24b",
   "metadata": {},
   "source": [
    "**Binary Search Tree (BST)**:\n",
    "\n",
    "-   A binary tree where for each node, the left subtree contains nodes with keys less than the node's key and the right subtree contains nodes with keys greater than the node's key.\n",
    "-   Example operations: search, insertion, deletion, traversal."
   ]
  },
  {
   "cell_type": "markdown",
   "id": "1d0a50bc-2812-4e92-ac94-00a0e1e0f618",
   "metadata": {},
   "source": [
    "<img src=\"images/Binary_search_tree.png\" alt=\"failed to load\" />"
   ]
  },
  {
   "cell_type": "markdown",
   "id": "7f731a4e-95bb-43b3-a60b-2bd88fc5d141",
   "metadata": {},
   "source": [
    "-   **AVL Tree**:\n",
    "\n",
    "    -   A self-balancing binary search tree where the difference in heights between left and right subtrees cannot be more than one.\n",
    "    -   Maintains O(log n) time complexity for search, insertion, and deletion operations.\n",
    "-   **B-tree**:\n",
    "\n",
    "    -   A self-balancing tree structure that maintains sorted data and allows for efficient insertion, deletion, and search operations.\n",
    "    -   Commonly used in databases and file systems.\n",
    "\n",
    "#### 3\\. **Operations on Trees**\n",
    "\n",
    "-   **Traversal**:\n",
    "\n",
    "    -   **Inorder**: Left subtree, root, right subtree.\n",
    "    -   **Preorder**: Root, left subtree, right subtree.\n",
    "    -   **Postorder**: Left subtree, right subtree, root.\n",
    "-   **Insertion**:\n",
    "\n",
    "    -   Adding a new node to the tree following specific rules (e.g., BST property for BST).\n",
    "-   **Deletion**:\n",
    "\n",
    "    -   Removing a node while maintaining the tree structure (e.g., maintaining BST property for BST).\n",
    "\n",
    "#### 4\\. **Applications of Trees**\n",
    "\n",
    "-   **Binary Search Trees**: Efficient searching and retrieval of data.\n",
    "-   **Expression Evaluation**: Parsing and evaluating mathematical expressions.\n",
    "-   **Hierarchical Structures**: Representing hierarchical data like file systems, organization charts.\n",
    "-   **Decision Trees**: Used in machine learning algorithms for classification and regression.\n",
    "\n",
    "#### 5\\. **Advantages and Considerations**\n",
    "\n",
    "-   **Advantages**:\n",
    "\n",
    "    -   Efficient for hierarchical data storage and retrieval.\n",
    "    -   Support for various operations like search, insertion, and deletion.\n",
    "-   **Considerations**:\n",
    "\n",
    "    -   Balanced vs. Unbalanced Trees: Balance affects the efficiency of operations.\n",
    "    -   Memory Management: Proper memory allocation and deallocation in dynamic trees.\n",
    "\n",
    "#### 6\\. **Examples and Code Snippets**\n",
    "\n",
    "-   **Binary Search Tree Example**:"
   ]
  },
  {
   "cell_type": "code",
   "execution_count": null,
   "id": "7dd86211-c3fe-45cb-b3ea-02ab779bb906",
   "metadata": {},
   "outputs": [],
   "source": [
    "// Java example of a binary search tree\n",
    "class TreeNode {\n",
    "    int data;\n",
    "    TreeNode left, right;\n",
    "    public TreeNode(int value) {\n",
    "        data = value;\n",
    "        left = right = null;\n",
    "    }\n",
    "}\n",
    "\n",
    "class BinarySearchTree {\n",
    "    TreeNode root;\n",
    "    // Insert operation\n",
    "    void insert(int value) {\n",
    "        root = insertRec(root, value);\n",
    "    }\n",
    "    TreeNode insertRec(TreeNode root, int value) {\n",
    "        if (root == null) {\n",
    "            root = new TreeNode(value);\n",
    "            return root;\n",
    "        }\n",
    "        if (value < root.data) {\n",
    "            root.left = insertRec(root.left, value);\n",
    "        } else if (value > root.data) {\n",
    "            root.right = insertRec(root.right, value);\n",
    "        }\n",
    "        return root;\n",
    "    }\n",
    "}\n"
   ]
  },
  {
   "cell_type": "markdown",
   "id": "a82c01c1-4af0-4b02-a155-17fd651d5630",
   "metadata": {},
   "source": [
    "#### 7\\. **Challenges and Further Learning**\n",
    "\n",
    "-   **Balancing**: Understanding and implementing self-balancing techniques like AVL trees or Red-Black trees.\n",
    "-   **Advanced Operations**: Implementing advanced operations like finding the lowest common ancestor (LCA) or tree traversals.\n",
    "-   **Tree-based Algorithms**: Exploring algorithms and applications in data structures, algorithms, and machine learning."
   ]
  },
  {
   "cell_type": "code",
   "execution_count": null,
   "id": "16e38809-1891-4b29-abdb-f4fab53481bf",
   "metadata": {},
   "outputs": [],
   "source": []
  }
 ],
 "metadata": {
  "kernelspec": {
   "display_name": "Python 3 (ipykernel)",
   "language": "python",
   "name": "python3"
  },
  "language_info": {
   "codemirror_mode": {
    "name": "ipython",
    "version": 3
   },
   "file_extension": ".py",
   "mimetype": "text/x-python",
   "name": "python",
   "nbconvert_exporter": "python",
   "pygments_lexer": "ipython3",
   "version": "3.11.7"
  }
 },
 "nbformat": 4,
 "nbformat_minor": 5
}
