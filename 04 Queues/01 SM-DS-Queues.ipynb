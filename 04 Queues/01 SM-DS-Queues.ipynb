{
 "cells": [
  {
   "cell_type": "markdown",
   "id": "b9c82907-da17-4693-8446-26aca9a429f7",
   "metadata": {},
   "source": [
    "#### **Introduction to Queues**\n",
    "\n",
    "-   **Definition**: A queue is a linear data structure that follows the First-In-First-Out (FIFO) principle, where elements are added at the rear (enqueue) and removed from the front (dequeue) of the queue.\n",
    "-   **Operations**:\n",
    "    -   **Enqueue**: Adds an element to the rear of the queue.\n",
    "    -   **Dequeue**: Removes and returns the element at the front of the queue.\n",
    "    -   **Front**: Returns the element at the front without removing it.\n",
    "    -   **isEmpty**: Checks if the queue is empty.\n",
    "\n",
    "#### 2\\. **Implementation of Queues**\n",
    "\n",
    "-   **Array-based Queue**:\n",
    "\n",
    "    -   Implemented using arrays with a fixed or dynamic size.\n",
    "    -   Example operations:\n",
    "        -   Enqueue operation"
   ]
  },
  {
   "cell_type": "code",
   "execution_count": null,
   "id": "13381cd7-630d-472e-985c-c35f0aad31ec",
   "metadata": {},
   "outputs": [],
   "source": [
    "// Java example\n",
    "void enqueue(int element) {\n",
    "    if (rear == maxSize - 1) {\n",
    "        System.out.println(\"Queue Overflow\");\n",
    "        return;\n",
    "    }\n",
    "    queue[++rear] = element;\n",
    "}\n"
   ]
  },
  {
   "cell_type": "markdown",
   "id": "22995873-2ab8-4f5e-8100-93bb3483cc37",
   "metadata": {},
   "source": [
    "        -    Dequeue operation:"
   ]
  },
  {
   "cell_type": "code",
   "execution_count": 2,
   "id": "3e2eb242-b208-4661-85a6-c6bee45306c6",
   "metadata": {},
   "outputs": [],
   "source": [
    "# Python example\n",
    "def dequeue():\n",
    "    global front, rear\n",
    "    if front == -1:\n",
    "        print(\"Queue Underflow\")\n",
    "        return None\n",
    "    element = queue[front]\n",
    "    if front == rear:\n",
    "        front = rear = -1\n",
    "    else:\n",
    "        front += 1\n",
    "    return element\n"
   ]
  },
  {
   "cell_type": "markdown",
   "id": "5840ba8c-a139-4246-98de-040338193019",
   "metadata": {},
   "source": [
    "**Linked List-based Queue**:\n",
    "\n",
    "-   Implemented using singly linked lists.\n",
    "-   Example operations:\n",
    "    -   Enqueue operation:"
   ]
  },
  {
   "cell_type": "code",
   "execution_count": null,
   "id": "a942ca40-cb73-4190-b6ac-9734d510ecc8",
   "metadata": {},
   "outputs": [],
   "source": [
    "// C++ example\n",
    "void enqueue(int data) {\n",
    "    Node* newNode = new Node(data);\n",
    "    if (rear == nullptr) {\n",
    "        front = rear = newNode;\n",
    "    } else {\n",
    "        rear->next = newNode;\n",
    "        rear = newNode;\n",
    "    }\n",
    "}\n"
   ]
  },
  {
   "cell_type": "markdown",
   "id": "c1977b81-76d5-470a-9bdd-fc9c70a1cfcc",
   "metadata": {},
   "source": [
    "    -  Dequeue operation"
   ]
  },
  {
   "cell_type": "code",
   "execution_count": null,
   "id": "65428df2-e140-4892-93af-9ca6ad4c45b6",
   "metadata": {},
   "outputs": [],
   "source": [
    "// Java example\n",
    "int dequeue() {\n",
    "    if (front == null) {\n",
    "        throw new NoSuchElementException();\n",
    "    }\n",
    "    int data = front.data;\n",
    "    front = front.next;\n",
    "    if (front == null) {\n",
    "        rear = null;\n",
    "    }\n",
    "    return data;\n",
    "}\n"
   ]
  },
  {
   "cell_type": "markdown",
   "id": "4a6e89e0-f556-4f04-8b74-700fd2924d65",
   "metadata": {},
   "source": [
    "#### 3\\. **Applications of Queues**\n",
    "\n",
    "-   **Breadth-First Search (BFS)**: Utilized in graph traversal algorithms like BFS.\n",
    "-   **Job Scheduling**: Processing tasks in the order they were received (e.g., print queue).\n",
    "-   **Buffering**: Storing and retrieving data in networking and operating system implementations.\n",
    "-   **Message Queues**: Managing messages between processes or threads.\n",
    "\n",
    "#### 4\\. **Advantages and Disadvantages**\n",
    "\n",
    "-   **Advantages**:\n",
    "\n",
    "    -   Supports ordering based on arrival time.\n",
    "    -   Efficient enqueue and dequeue operations (`O(1)` time complexity).\n",
    "-   **Disadvantages**:\n",
    "\n",
    "    -   Limited access to elements (only the front element can be accessed directly).\n",
    "    -   Memory constraints in array-based implementations (fixed size).\n",
    "\n",
    "#### 5\\. **Examples and Code Snippets**\n",
    "\n",
    "-   **Array-based Queue Example**:"
   ]
  },
  {
   "cell_type": "code",
   "execution_count": 7,
   "id": "e88ac04c-2441-4679-ba18-63275dae505a",
   "metadata": {},
   "outputs": [],
   "source": [
    "# Python example of an array-based queue\n",
    "queue = []\n",
    "front = rear = -1\n",
    "\n",
    "# Enqueue operation\n",
    "def enqueue(element):\n",
    "    global rear\n",
    "    if rear == -1:\n",
    "        rear = 0\n",
    "    queue.append(element)\n",
    "\n",
    "# Dequeue operation\n",
    "def dequeue():\n",
    "    global front, rear\n",
    "    if front == -1:\n",
    "        print(\"Queue Underflow\")\n",
    "        return None\n",
    "    element = queue[front]\n",
    "    queue.pop(0)\n",
    "    if front == rear:\n",
    "        front = rear = -1\n",
    "    return element\n"
   ]
  },
  {
   "cell_type": "markdown",
   "id": "1cb8fecd-831c-4adc-aeca-a28fa2007b41",
   "metadata": {},
   "source": [
    "   \n",
    "    -   Linked List-based Queue Example:"
   ]
  },
  {
   "cell_type": "code",
   "execution_count": null,
   "id": "b2065e1e-a4c5-49f2-9787-12712afd6d76",
   "metadata": {},
   "outputs": [],
   "source": [
    "// C++ example of a linked list-based queue\n",
    "struct Node {\n",
    "    int data;\n",
    "    Node* next;\n",
    "    Node(int value) : data(value), next(nullptr) {}\n",
    "};\n",
    "\n",
    "Node* front = nullptr;\n",
    "Node* rear = nullptr;\n",
    "\n",
    "// Enqueue operation\n",
    "void enqueue(int data) {\n",
    "    Node* newNode = new Node(data);\n",
    "    if (rear == nullptr) {\n",
    "        front = rear = newNode;\n",
    "    } else {\n",
    "        rear->next = newNode;\n",
    "        rear = newNode;\n",
    "    }\n",
    "}\n",
    "\n",
    "// Dequeue operation\n",
    "int dequeue() {\n",
    "    if (front == nullptr) {\n",
    "        throw runtime_error(\"Queue is empty\");\n",
    "    }\n",
    "    int data = front->data;\n",
    "    Node* temp = front;\n",
    "    front = front->next;\n",
    "    if (front == nullptr) {\n",
    "        rear = nullptr;\n",
    "    }\n",
    "    delete temp;\n",
    "    return data;\n",
    "}\n"
   ]
  },
  {
   "cell_type": "markdown",
   "id": "a49c34d7-bb85-4414-935c-d7d667e0c506",
   "metadata": {},
   "source": [
    "#### **Challenges and Considerations**\n",
    "\n",
    "-   **Queue Overflow**: Managing situations where the queue exceeds its maximum capacity (array-based queues).\n",
    "-   **Queue Underflow**: Handling attempts to dequeue from an empty queue.\n",
    "-   **Concurrency Issues**: Synchronization issues in concurrent environments where multiple threads access the queue."
   ]
  },
  {
   "cell_type": "code",
   "execution_count": null,
   "id": "948ce949-db36-4170-bad8-ad797994e1bc",
   "metadata": {},
   "outputs": [],
   "source": []
  }
 ],
 "metadata": {
  "kernelspec": {
   "display_name": "Python 3 (ipykernel)",
   "language": "python",
   "name": "python3"
  },
  "language_info": {
   "codemirror_mode": {
    "name": "ipython",
    "version": 3
   },
   "file_extension": ".py",
   "mimetype": "text/x-python",
   "name": "python",
   "nbconvert_exporter": "python",
   "pygments_lexer": "ipython3",
   "version": "3.11.7"
  }
 },
 "nbformat": 4,
 "nbformat_minor": 5
}
