{
 "cells": [
  {
   "cell_type": "markdown",
   "id": "8bd2799a-2f9a-46ba-b8cc-3064082fc37f",
   "metadata": {},
   "source": [
    "#### 1\\. **Introduction to Graphs**\n",
    "\n",
    "-   **Definition**: A graph is a non-linear data structure consisting of nodes (vertices) and edges that connect these nodes.\n",
    "-   **Terminology**:\n",
    "    -   **Vertex (Node)**: Represents an entity or object.\n",
    "    -   **Edge**: Represents a relationship or connection between vertices.\n",
    "    -   **Directed Graph**: Graph where edges have a direction.\n",
    "    -   **Undirected Graph**: Graph where edges do not have a direction.\n",
    "    -   **Weighted Graph**: Graph where edges have weights or costs.\n",
    "\n",
    "#### 2\\. **Types of Graphs**"
   ]
  },
  {
   "cell_type": "markdown",
   "id": "46675788-7bbf-4391-abac-224e955ded19",
   "metadata": {},
   "source": [
    "#### Directed Graph (Digraph)\n",
    "\n",
    "-   **Definition**: Each edge has a direction indicating the flow between nodes.\n",
    "-   **Example**: A network of roads with one-way streets.\n",
    "\n",
    "#### Undirected Graph\n",
    "\n",
    "-   **Definition**: Edges do not have a direction, and connections are bidirectional.\n",
    "-   **Example**: Social networks where friendships are mutual.\n",
    "\n",
    "#### Weighted Graph\n",
    "\n",
    "-   **Definition**: Edges have weights or costs associated with them.\n",
    "-   **Example**: Transportation networks where edges represent distances between locations.\n",
    "\n",
    "#### Cyclic vs Acyclic Graphs\n",
    "\n",
    "-   **Cyclic Graph**: Contains at least one cycle (a path that starts and ends at the same vertex).\n",
    "    -   **Example**: A network of dependencies where A depends on B, and B depends on A.\n",
    "-   **Acyclic Graph (DAG - Directed Acyclic Graph)**: Does not contain any cycles.\n",
    "    -   **Example**: A hierarchy of tasks with dependencies where no task depends on itself.\n",
    "\n",
    "### Graph Representation Examples\n",
    "\n",
    "-   **Adjacency Matrix**: A 2D array where `matrix[i][j]` represents the weight of the edge from vertex `i` to vertex `j`. It's suitable for dense graphs.\n",
    "\n",
    "-   **Adjacency List**: An array of lists where each list represents the nodes adjacent to a particular vertex. It's suitable for sparse graphs and efficient in terms of space.\n",
    "\n",
    "### Graph Operations and Algorithms\n",
    "\n",
    "-   **Traversal**: Techniques like Depth-First Search (DFS) and Breadth-First Search (BFS) to explore vertices and edges.\n",
    "\n",
    "-   **Shortest Path Algorithms**: Dijkstra's Algorithm for finding the shortest path in weighted graphs and Bellman-Ford Algorithm for graphs with negative weights.\n",
    "\n",
    "-   **Minimum Spanning Tree (MST)**: Algorithms like Kruskal's and Prim's for finding the minimal set of edges that connect all vertices without cycles.\n",
    "\n",
    "### Applications of Graphs\n",
    "\n",
    "-   **Networks and Routing**: Modeling computer networks and finding optimal routes.\n",
    "\n",
    "-   **Social Networks**: Analyzing relationships between individuals.\n",
    "\n",
    "-   **Recommendation Systems**: Suggesting friends, products, or services based on connections.\n",
    "\n",
    "### Advantages and Considerations\n",
    "\n",
    "-   **Advantages**: Versatile for modeling relationships and networks, support for complex algorithms.\n",
    "\n",
    "-   **Considerations**: Efficient storage and traversal methods, handling large-scale graphs."
   ]
  },
  {
   "cell_type": "markdown",
   "id": "f7cdb086-14cd-44f3-85a1-dfe738e2fae8",
   "metadata": {},
   "source": [
    "#### **Examples and Code Snippets**\n",
    "\n",
    "-   **Adjacency List Representation**"
   ]
  },
  {
   "cell_type": "code",
   "execution_count": null,
   "id": "54f38a3f-f2f1-463b-8d16-b97f63a70c6a",
   "metadata": {},
   "outputs": [],
   "source": [
    "// Java example of adjacency list representation\n",
    "import java.util.*;\n",
    "\n",
    "class Graph {\n",
    "    int V;\n",
    "    LinkedList<Integer>[] adjList;\n",
    "    \n",
    "    public Graph(int vertices) {\n",
    "        V = vertices;\n",
    "        adjList = new LinkedList[V];\n",
    "        for (int i = 0; i < V; i++) {\n",
    "            adjList[i] = new LinkedList<>();\n",
    "        }\n",
    "    }\n",
    "    \n",
    "    void addEdge(int u, int v) {\n",
    "        adjList[u].add(v);\n",
    "        adjList[v].add(u); // for undirected graph\n",
    "    }\n",
    "}\n"
   ]
  },
  {
   "cell_type": "markdown",
   "id": "1794c338-3a3a-41e7-b3f2-c953c87fa949",
   "metadata": {},
   "source": [
    "#### **Challenges and Further Learning**\n",
    "\n",
    "-   **Cycle Detection**: Implementing algorithms to detect cycles in graphs.\n",
    "-   **Graph Coloring**: Applications in scheduling and resource allocation problems.\n",
    "-   **Advanced Algorithms**: Exploring parallel algorithms, network flow algorithms, and graph neural networks (GNNs)."
   ]
  },
  {
   "cell_type": "code",
   "execution_count": null,
   "id": "47d49657-0c88-4ae8-bf2c-43f4684580b4",
   "metadata": {},
   "outputs": [],
   "source": []
  }
 ],
 "metadata": {
  "kernelspec": {
   "display_name": "Python 3 (ipykernel)",
   "language": "python",
   "name": "python3"
  },
  "language_info": {
   "codemirror_mode": {
    "name": "ipython",
    "version": 3
   },
   "file_extension": ".py",
   "mimetype": "text/x-python",
   "name": "python",
   "nbconvert_exporter": "python",
   "pygments_lexer": "ipython3",
   "version": "3.11.7"
  }
 },
 "nbformat": 4,
 "nbformat_minor": 5
}
