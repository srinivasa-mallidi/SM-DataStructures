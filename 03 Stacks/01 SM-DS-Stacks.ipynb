{
 "cells": [
  {
   "cell_type": "markdown",
   "id": "4c284af3-24af-4f06-b2bc-cb0bad8e92f6",
   "metadata": {},
   "source": [
    "#### **Introduction to Stacks**\n",
    "\n",
    "-   **Definition**: A stack is a linear data structure that follows the Last-In-First-Out (LIFO) principle, where elements are added and removed from the top of the stack.\n",
    "-   **Operations**:\n",
    "    -   **Push**: Adds an element to the top of the stack.\n",
    "    -   **Pop**: Removes and returns the top element of the stack.\n",
    "    -   **Peek or Top**: Returns the top element without removing it.\n",
    "    -   **isEmpty**: Checks if the stack is empty.\n",
    "\n",
    "#### 2\\. **Implementation of Stacks**\n",
    "\n",
    "-   **Array-based Stack**:\n",
    "\n",
    "    -   Implemented using arrays with a fixed or dynamic size.\n",
    "    -   Example operations:\n",
    "        -   Push operation:"
   ]
  },
  {
   "cell_type": "code",
   "execution_count": null,
   "id": "bf0a860e-df3b-4670-9840-9121851d67c6",
   "metadata": {},
   "outputs": [],
   "source": [
    "// Java example\n",
    "void push(int element) {\n",
    "    if (top == maxSize - 1) {\n",
    "        System.out.println(\"Stack Overflow\");\n",
    "        return;\n",
    "    }\n",
    "    stack[++top] = element;\n",
    "}\n"
   ]
  },
  {
   "cell_type": "markdown",
   "id": "a683506b-8ee9-48cf-bcbb-300c1c7a6518",
   "metadata": {},
   "source": [
    "        -   Pop operation:"
   ]
  },
  {
   "cell_type": "code",
   "execution_count": 1,
   "id": "747f7448-ceab-4c31-b8eb-8f6a0f4726d1",
   "metadata": {},
   "outputs": [],
   "source": [
    "# Python example\n",
    "def pop():\n",
    "    global top\n",
    "    if top == -1:\n",
    "        print(\"Stack Underflow\")\n",
    "        return None\n",
    "    element = stack[top]\n",
    "    top -= 1\n",
    "    return element\n"
   ]
  },
  {
   "cell_type": "markdown",
   "id": "94b62ebf-322a-4667-882e-89b9f84de528",
   "metadata": {},
   "source": [
    "**Linked List-based Stack**:\n",
    "\n",
    "-   Implemented using singly linked lists.\n",
    "-   Example operations:\n",
    "    -   Push operation:"
   ]
  },
  {
   "cell_type": "code",
   "execution_count": null,
   "id": "1c018700-740d-49ce-bf2f-69f3ec31d04a",
   "metadata": {},
   "outputs": [],
   "source": [
    "// C++ example\n",
    "void push(int data) {\n",
    "    Node* newNode = new Node(data);\n",
    "    newNode->next = top;\n",
    "    top = newNode;\n",
    "}\n"
   ]
  },
  {
   "cell_type": "markdown",
   "id": "47555c53-c2dd-4053-8fe7-ed52ad2132c7",
   "metadata": {},
   "source": [
    "    -   Push operation:"
   ]
  },
  {
   "cell_type": "code",
   "execution_count": null,
   "id": "5386bc61-67de-4f62-9863-3d00831dd044",
   "metadata": {},
   "outputs": [],
   "source": [
    "// Java example\n",
    "int pop() {\n",
    "    if (top == null) {\n",
    "        throw new EmptyStackException();\n",
    "    }\n",
    "    int data = top.data;\n",
    "    top = top.next;\n",
    "    return data;\n",
    "}\n"
   ]
  },
  {
   "cell_type": "markdown",
   "id": "6c7d1c6f-74b9-40e7-b2c1-5210244f126b",
   "metadata": {},
   "source": [
    "**Linked List-based Stack**:\n",
    "\n",
    "-   Implemented using singly linked lists.\n",
    "-   Example operations:\n",
    "#### **Applications of Stacks**\n",
    "\n",
    "-   **Expression Evaluation**: Evaluating arithmetic expressions using postfix (Reverse Polish Notation) or infix expressions.\n",
    "-   **Function Call Stack**: Maintaining function calls and local variables in programming languages.\n",
    "-   **Undo Mechanisms**: Supporting undo operations in text editors or software applications.\n",
    "-   **Backtracking**: Backtracking algorithms use stacks to track states and choices.\n",
    "\n",
    "#### 4\\. **Advantages and Disadvantages**\n",
    "\n",
    "-   **Advantages**:\n",
    "    -   Simple to implement and understand.\n",
    "    -   Efficient operations (`O(1)` for push, pop, peek).\n",
    "-   **Disadvantages**:\n",
    "    -   Limited access to elements (only the top element can be accessed).\n",
    "    -   May have memory limitations depending on the implementation (array-based stacks).\n",
    "\n",
    "#### 5\\. **Examples and Code Snippets**\n",
    "\n",
    "-   **Array-based Stack Example**:"
   ]
  },
  {
   "cell_type": "code",
   "execution_count": 3,
   "id": "3144bc7a-be52-445f-a194-872f3960bebc",
   "metadata": {},
   "outputs": [
    {
     "name": "stdout",
     "output_type": "stream",
     "text": [
      "2\n"
     ]
    }
   ],
   "source": [
    "# Python example of an array-based stack\n",
    "stack = []\n",
    "\n",
    "# Push operation\n",
    "stack.append(1)\n",
    "stack.append(2)\n",
    "\n",
    "# Pop operation\n",
    "element = stack.pop()\n",
    "print(element)  # Outputs: 2\n"
   ]
  },
  {
   "cell_type": "markdown",
   "id": "13a093a2-12c3-4670-b3b4-5200a9e33aaa",
   "metadata": {},
   "source": [
    "\n",
    "-   **Linked List-based Stack Example**:"
   ]
  },
  {
   "cell_type": "code",
   "execution_count": null,
   "id": "df83742e-40f4-4a0c-b637-dd7755636dea",
   "metadata": {},
   "outputs": [],
   "source": [
    "// C++ example of a linked list-based stack\n",
    "struct Node {\n",
    "    int data;\n",
    "    Node* next;\n",
    "    Node(int value) : data(value), next(nullptr) {}\n",
    "};\n",
    "\n",
    "Node* top = nullptr;\n",
    "\n",
    "// Push operation\n",
    "void push(int data) {\n",
    "    Node* newNode = new Node(data);\n",
    "    newNode->next = top;\n",
    "    top = newNode;\n",
    "}\n",
    "\n",
    "// Pop operation\n",
    "int pop() {\n",
    "    if (top == nullptr) {\n",
    "        throw runtime_error(\"Stack is empty\");\n",
    "    }\n",
    "    int data = top->data;\n",
    "    Node* temp = top;\n",
    "    top = top->next;\n",
    "    delete temp;\n",
    "    return data;\n",
    "}\n"
   ]
  },
  {
   "cell_type": "markdown",
   "id": "852d1f8b-a96b-476c-838f-5fc38d367d1e",
   "metadata": {},
   "source": [
    "#### **Challenges and Considerations**\n",
    "\n",
    "-   **Stack Overflow**: Managing situations where the stack exceeds its maximum capacity (array-based stacks).\n",
    "-   **Stack Underflow**: Handling attempts to pop from an empty stack.\n",
    "-   **Memory Management**: Properly managing memory in linked list implementations to avoid memory leaks."
   ]
  },
  {
   "cell_type": "code",
   "execution_count": null,
   "id": "e09be43e-d70c-4cee-8fc3-03a6fbbc2176",
   "metadata": {},
   "outputs": [],
   "source": []
  }
 ],
 "metadata": {
  "kernelspec": {
   "display_name": "Python 3 (ipykernel)",
   "language": "python",
   "name": "python3"
  },
  "language_info": {
   "codemirror_mode": {
    "name": "ipython",
    "version": 3
   },
   "file_extension": ".py",
   "mimetype": "text/x-python",
   "name": "python",
   "nbconvert_exporter": "python",
   "pygments_lexer": "ipython3",
   "version": "3.11.7"
  }
 },
 "nbformat": 4,
 "nbformat_minor": 5
}
