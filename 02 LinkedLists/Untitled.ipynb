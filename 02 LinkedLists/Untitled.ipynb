{
 "cells": [
  {
   "cell_type": "markdown",
   "id": "d699dd94-9ba1-44dc-86f2-44dff2e51860",
   "metadata": {},
   "source": [
    "#### 1\\. **Introduction to Linked Lists**\n",
    "\n",
    "-   **Definition**: A linked list is a linear data structure where elements are stored in nodes. Each node contains data and a reference (link) to the next node in the sequence.\n",
    "-   **Characteristics**:\n",
    "    -   Dynamic size: Nodes can be added or removed dynamically.\n",
    "    -   No need for contiguous memory allocation like arrays.\n",
    "\n",
    "#### 2\\. **Types of Linked Lists**\n",
    "\n",
    "-   **Singly Linked List**:\n",
    "\n",
    "    -   Each node points to the next node in the sequence.\n",
    "    -   Example operations: traversal, insertion, deletion"
   ]
  },
  {
   "attachments": {},
   "cell_type": "markdown",
   "id": "fc1f91b0-c5bd-4f1d-8622-eb50e11937e8",
   "metadata": {},
   "source": [
    "<img src=\"images/Singly-linked-list.png\" alt=\"Failed to load image\" >\n"
   ]
  },
  {
   "cell_type": "markdown",
   "id": "c16bb4b3-de76-4db9-abca-34f79d20124d",
   "metadata": {},
   "source": [
    "**Doubly Linked List**:\n",
    "\n",
    "-   Each node has references to both the next and the previous nodes.\n",
    "-   Allows traversal in both directions."
   ]
  },
  {
   "attachments": {},
   "cell_type": "markdown",
   "id": "4bfeaaf8-752e-4ea9-a75c-4aff5caf3c9b",
   "metadata": {},
   "source": [
    "<img src=\"images/Doubly-linked-list.png\" alt=\"failed to load image\">"
   ]
  },
  {
   "cell_type": "markdown",
   "id": "1f2897f1-37c2-45dd-ac62-e18aa705f908",
   "metadata": {},
   "source": [
    "-   **Circular Linked List**:\n",
    "\n",
    "    -   Last node points back to the first node, forming a circle.\n",
    "    -   Useful for applications where the list needs to be traversed in a circular manner.\n",
    "\n",
    "#### 3\\. **Operations on Linked Lists**\n",
    "\n",
    "-   **Traversal**:\n",
    "\n",
    "    -   Iterating through the nodes from the head to the end (or tail) of the list.\n",
    "-   **Insertion**:\n",
    "\n",
    "    -   Adding a new node at the beginning, end, or middle of the list.\n",
    "    -   Example: inserting a node at the beginning of a singly linked list:"
   ]
  },
  {
   "cell_type": "code",
   "execution_count": null,
   "id": "d392be1f-547c-4f3d-86d7-e4b225475eee",
   "metadata": {},
   "outputs": [],
   "source": [
    "// Java example\n",
    "Node newNode = new Node(data);\n",
    "newNode.next = head;\n",
    "head = newNode;\n"
   ]
  },
  {
   "cell_type": "markdown",
   "id": "c3ccbdc0-1374-4308-917f-b3205b4710dc",
   "metadata": {},
   "source": [
    "-   **Deletion**:\n",
    "\n",
    "      -   Removing a node from the list based on a specific condition.\n",
    "      -   Example: deleting a node with a given value from a singly linked list:"
   ]
  },
  {
   "cell_type": "code",
   "execution_count": 1,
   "id": "2a9b1f9c-2ef4-4a4e-a8cc-74c0da627aa2",
   "metadata": {},
   "outputs": [],
   "source": [
    "# Python example\n",
    "def deleteNode(head, value):\n",
    "    if head is None:\n",
    "        return head\n",
    "    if head.data == value:\n",
    "        return head.next\n",
    "    current = head\n",
    "    while current.next:\n",
    "        if current.next.data == value:\n",
    "            current.next = current.next.next\n",
    "            return head\n",
    "        current = current.next\n",
    "    return head\n"
   ]
  },
  {
   "cell_type": "markdown",
   "id": "8d2b71b5-5a27-4f26-a15c-b27dc597a5c9",
   "metadata": {},
   "source": [
    "#### 4\\. **Advantages and Disadvantages**\n",
    "\n",
    "-   **Advantages**:\n",
    "\n",
    "    -   Dynamic size: Easily resizable compared to arrays.\n",
    "    -   Efficient insertion and deletion operations in certain scenarios.\n",
    "-   **Disadvantages**:\n",
    "\n",
    "    -   Requires extra memory for storing the next (and previous in doubly linked lists) pointers.\n",
    "    -   Slower access times compared to arrays due to lack of direct indexing.\n",
    "\n",
    "#### 5\\. **Applications of Linked Lists**\n",
    "\n",
    "-   **Implementation of Stacks and Queues**: Linked lists serve as the underlying data structure for implementing stacks and queues.\n",
    "-   **Memory Allocation**: Dynamic memory allocation where size is not fixed.\n",
    "-   **Hash Tables**: Chaining method in hash tables uses linked lists to handle collisions.\n",
    "\n",
    "#### 6\\. **Examples and Code Snippets**\n",
    "\n",
    "-   **Node Structure**:"
   ]
  },
  {
   "cell_type": "code",
   "execution_count": null,
   "id": "68d1f110-f835-415e-adc5-0300d1c4dcc2",
   "metadata": {},
   "outputs": [],
   "source": [
    "// C++ example of a singly linked list node\n",
    "struct Node {\n",
    "    int data;\n",
    "    Node* next;\n",
    "    Node(int value) : data(value), next(nullptr) {}\n",
    "};\n"
   ]
  },
  {
   "cell_type": "markdown",
   "id": "7ffab222-4228-4b19-a97d-0a3f603b5f4d",
   "metadata": {},
   "source": [
    "-   **Insertion Example**:"
   ]
  },
  {
   "cell_type": "code",
   "execution_count": null,
   "id": "8264fbad-9525-45c5-a0ef-c8e87d68cbf3",
   "metadata": {},
   "outputs": [],
   "source": [
    "// Java example of inserting a node at the end of a linked list\n",
    "void insertAtEnd(Node head, int data) {\n",
    "    Node newNode = new Node(data);\n",
    "    if (head == null) {\n",
    "        head = newNode;\n",
    "        return;\n",
    "    }\n",
    "    Node current = head;\n",
    "    while (current.next != null) {\n",
    "        current = current.next;\n",
    "    }\n",
    "    current.next = newNode;\n",
    "}\n"
   ]
  },
  {
   "cell_type": "markdown",
   "id": "e15a2666-b109-4e29-9ad8-0193a555f637",
   "metadata": {},
   "source": [
    "#### **Challenges and Considerations**\n",
    "\n",
    "-   **Memory Management**: Proper management of memory allocation and deallocation, especially in languages without automatic garbage collection.\n",
    "-   **Circular References**: Avoiding circular references that could lead to infinite loops."
   ]
  },
  {
   "cell_type": "code",
   "execution_count": null,
   "id": "4c6dd4f0-d465-4729-9d33-460ae13dcba0",
   "metadata": {},
   "outputs": [],
   "source": []
  }
 ],
 "metadata": {
  "kernelspec": {
   "display_name": "Python 3 (ipykernel)",
   "language": "python",
   "name": "python3"
  },
  "language_info": {
   "codemirror_mode": {
    "name": "ipython",
    "version": 3
   },
   "file_extension": ".py",
   "mimetype": "text/x-python",
   "name": "python",
   "nbconvert_exporter": "python",
   "pygments_lexer": "ipython3",
   "version": "3.11.7"
  }
 },
 "nbformat": 4,
 "nbformat_minor": 5
}
